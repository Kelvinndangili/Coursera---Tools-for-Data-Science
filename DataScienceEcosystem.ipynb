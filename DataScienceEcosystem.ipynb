{
 "cells": [
  {
   "cell_type": "markdown",
   "id": "4bb13ece",
   "metadata": {},
   "source": [
    "#Exercise 1: Create a Jupyter Notebook called DataScienceEcosystem.ipynb"
   ]
  },
  {
   "cell_type": "markdown",
   "id": "bd7620b6",
   "metadata": {},
   "source": [
    "#Exercise 2: Create a markdown cell with the title Data Science Tools and Ecosystem using H1 style heading"
   ]
  },
  {
   "cell_type": "markdown",
   "id": "54ed6ae3",
   "metadata": {},
   "source": [
    "# Data Science Tools and Ecosystem"
   ]
  },
  {
   "cell_type": "markdown",
   "id": "2adb31fa",
   "metadata": {},
   "source": [
    "#Exercise 3: Write an introductory sentence about the notebook"
   ]
  },
  {
   "cell_type": "markdown",
   "id": "6a84d663",
   "metadata": {},
   "source": [
    "# In this notebook, Data Science Tools and Ecosystem are summarized."
   ]
  },
  {
   "cell_type": "markdown",
   "id": "0683db1a",
   "metadata": {},
   "source": [
    "# Objectives:\n",
    "\n",
    "- List popular languages for data science\n",
    "- List popular data science libraries\n",
    "- List popular Integrated Development Environments (IDEs) for data science\n",
    "- Learn Jupyter Notebooks and R as IDEs\n",
    "- Learn and understand Github repositories"
   ]
  },
  {
   "cell_type": "markdown",
   "id": "53a28386",
   "metadata": {},
   "source": [
    "#Exercise 4 - Create a markdown cell to list data science languages"
   ]
  },
  {
   "cell_type": "markdown",
   "id": "d56a9672",
   "metadata": {},
   "source": [
    "# Some of the popular languages that Data Scientists use are:\n",
    "\n",
    "1. Python\n",
    "2. R\n",
    "3. Julia\n",
    "4. Java\n",
    "5. JavaScript"
   ]
  },
  {
   "cell_type": "markdown",
   "id": "090296ba",
   "metadata": {},
   "source": [
    "#Exercise 5 - Create a markdown cell to list data science libraries"
   ]
  },
  {
   "cell_type": "markdown",
   "id": "f2c23128",
   "metadata": {},
   "source": [
    "# Some of the commonly used libraries used by Data Scientists include:\n",
    "\n",
    "1. Panda\n",
    "2. NumPy\n",
    "3. Keras\n",
    "4. TensorFlow"
   ]
  },
  {
   "cell_type": "markdown",
   "id": "efbcb74c",
   "metadata": {},
   "source": [
    "#Exercise 6 - Create a markdown cell with a table of Data Science tools"
   ]
  },
  {
   "cell_type": "markdown",
   "id": "6d73fadf",
   "metadata": {},
   "source": [
    "|Data Science Tools|\n",
    "-----------------------------\n",
    "|IBM Watson Studio|\n",
    "|Jupyter Notebooks|\n",
    "|Google Colab|\n",
    "|Visual Studio|\n",
    "\n"
   ]
  },
  {
   "cell_type": "markdown",
   "id": "3e4363e4",
   "metadata": {},
   "source": [
    "#Exercise 7 - Create a markdown cell introducing arithmetic expression examples"
   ]
  },
  {
   "cell_type": "markdown",
   "id": "84e82e83",
   "metadata": {},
   "source": [
    "### Below are a few examples of evaluating arithmetic expressions in Python"
   ]
  },
  {
   "cell_type": "markdown",
   "id": "ec319f48",
   "metadata": {},
   "source": [
    "#Exercise 8 - Create a code cell to multiply and add numbers"
   ]
  },
  {
   "cell_type": "code",
   "execution_count": 3,
   "id": "4db1c9b5",
   "metadata": {},
   "outputs": [
    {
     "data": {
      "text/plain": [
       "17"
      ]
     },
     "execution_count": 3,
     "metadata": {},
     "output_type": "execute_result"
    }
   ],
   "source": [
    "#### This a simple arithmetic expression to mutiply then add integers\n",
    "\n",
    "(3*4)+5\n",
    "\n"
   ]
  },
  {
   "cell_type": "markdown",
   "id": "4b231d4d",
   "metadata": {},
   "source": [
    "#Exercise 9 - Create a code cell to convert minutes to hours"
   ]
  },
  {
   "cell_type": "code",
   "execution_count": 4,
   "id": "8955d34e",
   "metadata": {},
   "outputs": [
    {
     "data": {
      "text/plain": [
       "3.3333333333333335"
      ]
     },
     "execution_count": 4,
     "metadata": {},
     "output_type": "execute_result"
    }
   ],
   "source": [
    "# This will convert 200 minutes to hours by diving by 60\n",
    "\n",
    "200/60\n",
    "\n"
   ]
  },
  {
   "cell_type": "markdown",
   "id": "fe24f850",
   "metadata": {},
   "source": [
    "#Exercise 10 - Insert a markdown cell to list Objectives"
   ]
  },
  {
   "cell_type": "markdown",
   "id": "2cf6f956",
   "metadata": {},
   "source": [
    "#Exercise 11 - Create a markdown cell to indicate the Author's name"
   ]
  },
  {
   "cell_type": "markdown",
   "id": "15541479",
   "metadata": {},
   "source": [
    "## Author\n",
    "\n",
    "Kelvin Ndangili"
   ]
  },
  {
   "cell_type": "code",
   "execution_count": null,
   "id": "a7e5bff0",
   "metadata": {},
   "outputs": [],
   "source": []
  }
 ],
 "metadata": {
  "kernelspec": {
   "display_name": "Python 3 (ipykernel)",
   "language": "python",
   "name": "python3"
  },
  "language_info": {
   "codemirror_mode": {
    "name": "ipython",
    "version": 3
   },
   "file_extension": ".py",
   "mimetype": "text/x-python",
   "name": "python",
   "nbconvert_exporter": "python",
   "pygments_lexer": "ipython3",
   "version": "3.11.5"
  }
 },
 "nbformat": 4,
 "nbformat_minor": 5
}
